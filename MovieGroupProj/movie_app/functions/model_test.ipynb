{
  "cells": [
    {
      "cell_type": "markdown",
      "metadata": {
        "id": "K7mw6J66z282"
      },
      "source": [
        "# Recommendations Model"
      ]
    },
    {
      "cell_type": "code",
      "execution_count": 103,
      "metadata": {
        "colab": {
          "base_uri": "https://localhost:8080/",
          "height": 196
        },
        "id": "xzIB0OCbpAhR",
        "outputId": "cd04d684-d400-422c-9fbe-b3088642c939"
      },
      "outputs": [
        {
          "data": {
            "text/html": [
              "\n",
              "        <div>\n",
              "            <p><b>SparkContext</b></p>\n",
              "\n",
              "            <p><a href=\"http://192.168.1.141:4040\">Spark UI</a></p>\n",
              "\n",
              "            <dl>\n",
              "              <dt>Version</dt>\n",
              "                <dd><code>v3.5.1</code></dd>\n",
              "              <dt>Master</dt>\n",
              "                <dd><code>local[*]</code></dd>\n",
              "              <dt>AppName</dt>\n",
              "                <dd><code>pyspark-shell</code></dd>\n",
              "            </dl>\n",
              "        </div>\n",
              "        "
            ],
            "text/plain": [
              "<SparkContext master=local[*] appName=pyspark-shell>"
            ]
          },
          "execution_count": 103,
          "metadata": {},
          "output_type": "execute_result"
        }
      ],
      "source": [
        "import pandas as pd\n",
        "import numpy as np\n",
        "import random\n",
        "import matplotlib.pyplot as plt\n",
        "import seaborn as sns\n",
        "\n",
        "import os\n",
        "from json import loads, dumps\n",
        "\n",
        "from sklearn.feature_extraction.text import TfidfVectorizer\n",
        "from sklearn.metrics.pairwise import cosine_similarity\n",
        "\n",
        "\n",
        "\n",
        "#os.environ[\"JAVA_HOME\"] = \"/Users/juliafrench/Downloads/jdk-21.0.2.jdk/Contents/Home/\"\n",
        "#os.environ[\"SPARK_HOME\"] = \"/Users/juliafrench/Documents/apache-spark/3.5.0/libexec\"\n",
        "\n",
        "#localStorage = localStoragePy('movie_app', 'text')\n",
        "\n",
        "from pyspark.sql import SparkSession\n",
        "from pyspark.sql import SQLContext\n",
        "spark = SparkSession.builder.master(\"local[*]\").getOrCreate()\n",
        "sc = spark.sparkContext\n",
        "sc\n"
      ]
    },
    {
      "cell_type": "markdown",
      "metadata": {},
      "source": [
        "Import data, transform for cosine similarity"
      ]
    },
    {
      "cell_type": "code",
      "execution_count": 92,
      "metadata": {
        "id": "sunlvSIupAhS"
      },
      "outputs": [],
      "source": [
        "def movieTable():\n",
        "    sparkDF = spark.read.csv('/Users/juliafrench/Documents/MovieRecc/IMDb_Clean_CSV.csv', header=True, inferSchema=True)\n",
        "    df = sparkDF.toPandas()\n",
        "\n",
        "    return df\n",
        "\n",
        "\n",
        "# Concatenate the features into one string (ensure these columns exist in your DataFrame)\n",
        "def transformClean():\n",
        "\n",
        "    dataframe = movieTable()\n",
        "\n",
        "    dataframe['combined_features'] = dataframe['Genre'] + ' ' + dataframe['Sub_Genre'] + ' ' + dataframe['Director'] + ' ' + dataframe['Year'].astype(str)\n",
        "\n",
        "    # Convert textual data to numerical data using TF-IDF\n",
        "    tfidf = TfidfVectorizer(stop_words='english')\n",
        "    tfidf_matrix = tfidf.fit_transform(dataframe['combined_features'])\n",
        "\n",
        "    # Compute the cosine similarity\n",
        "    cosine_sim = cosine_similarity(tfidf_matrix, tfidf_matrix)\n",
        "\n",
        "    return cosine_sim"
      ]
    },
    {
      "cell_type": "markdown",
      "metadata": {},
      "source": [
        "Function to get recommendations from a list of ids."
      ]
    },
    {
      "cell_type": "code",
      "execution_count": 7,
      "metadata": {
        "id": "kOaOpyTTpAhS"
      },
      "outputs": [],
      "source": [
        "def getReccomendations(ids, numRec):\n",
        "    ids = ids\n",
        "    cosine_sim = transformClean()\n",
        "    num_recommendations = numRec\n",
        "\n",
        "    df = movieTable()\n",
        "    movieDF = df\n",
        "    movieDF['combined_features'] =  movieDF['Genre'] + ' ' + movieDF['Sub_Genre'] + ' ' + movieDF['Director'] + ' ' + movieDF['Year'].astype(str)\n",
        "\n",
        "    recommendations = []\n",
        "    recs = []\n",
        "    for movie_id in ids:\n",
        "        print(movie_id)\n",
        "        # Get the index of the movie that matches the ID\n",
        "        idx = movieDF.index[movieDF['movieID'] == movie_id]\n",
        "        if len(idx) > 0:\n",
        "            idx = idx[0]\n",
        "            # Get the pairwise similarity scores\n",
        "            sim_scores = list(enumerate(cosine_sim[idx]))\n",
        "\n",
        "            # Sort the movies based on similarity scores\n",
        "            sim_scores = sorted(sim_scores, key=lambda x: x[1], reverse=True)\n",
        "\n",
        "            # Get the scores of the most similar movies\n",
        "            sim_scores = sim_scores[1:num_recommendations+1]\n",
        "\n",
        "            # Get the movie indices\n",
        "            movie_indices = [i[0] for i in sim_scores]\n",
        "\n",
        "              # Add recommendations for this movie to the list\n",
        "            recommendations.append(movieDF['movieID'].iloc[movie_indices].tolist())\n",
        "        else:\n",
        "            recommendations.append([])\n",
        "\n",
        "            # Movie not found in the dataset\n",
        "\n",
        "        recs = recommendations\n",
        "\n",
        "        flat_list = []\n",
        "        for row in recs:\n",
        "            flat_list.extend(row)\n",
        "\n",
        "        res = []\n",
        "        [res.append(x) for x in flat_list if x not in res]\n",
        "\n",
        "        rows = df[df['movieID'].isin(res)]\n",
        "\n",
        "    return rows"
      ]
    },
    {
      "cell_type": "markdown",
      "metadata": {},
      "source": [
        "Function that uses the list of ids returned from user selected movies, and returns the recommendations from getReccomendations()"
      ]
    },
    {
      "cell_type": "code",
      "execution_count": 8,
      "metadata": {
        "colab": {
          "base_uri": "https://localhost:8080/"
        },
        "id": "0RVZ9TrhpAhS",
        "outputId": "00bb97e6-5cbf-4c23-fb1b-9549db779781"
      },
      "outputs": [
        {
          "name": "stderr",
          "output_type": "stream",
          "text": [
            "                                                                                \r"
          ]
        },
        {
          "name": "stdout",
          "output_type": "stream",
          "text": [
            "1\n",
            "5\n",
            "8\n",
            "      movieID                                              Title  Year  \\\n",
            "95         95                                  A Christmas Carol  2009   \n",
            "128       128                                      A Mighty Wind  2003   \n",
            "134       134                             A Night at the Roxbury  1998   \n",
            "363       363                                   Army of the Dead  2021   \n",
            "385       385                                          Astro Boy  2009   \n",
            "492       492                 Batman v Superman: Dawn of Justice  2016   \n",
            "493       493  Batman v Superman: Dawn of Justice (Ultimate E...  2016   \n",
            "604       604                                        Black Death  2010   \n",
            "1071     1071                                   Dawn of the Dead  2004   \n",
            "1087     1087                                   Dead Man's Shoes  2004   \n",
            "1534     1534                                          Following  1998   \n",
            "2123     2123                                     Iron Man Three  2013   \n",
            "2252     2252                                     Justice League  2017   \n",
            "2324     2324                                Kiss Kiss Bang Bang  2005   \n",
            "2385     2385               La leggenda del pianista sull'oceano  1998   \n",
            "2462     2462      Legend of the Guardians: The Owls of Ga'Hoole  2010   \n",
            "2627     2627                                       Man of Steel  2013   \n",
            "3264     3264                                             Primer  2004   \n",
            "3704     3704                                          SLC Punk!  1998   \n",
            "3912     3912                                       Sucker Punch  2011   \n",
            "4233     4233                                    The Dark Knight  2008   \n",
            "4234     4234                              The Dark Knight Rises  2012   \n",
            "4701     4701                                      The Nice Guys  2016   \n",
            "4777     4777                                       The Predator  2018   \n",
            "5027     5027                                 The Wedding Singer  1998   \n",
            "5081     5081                                    This Is England  2006   \n",
            "5290     5290                                     Upstream Color  2013   \n",
            "5315     5315                                    Velvet Goldmine  1998   \n",
            "5375     5375                                           Watchmen  2009   \n",
            "5543     5543                       Zack Snyder's Justice League  2021   \n",
            "\n",
            "                Director                                             Actors  \\\n",
            "95       Robert Zemeckis  Jim Carrey, Gary Oldman, Colin Firth, Steve Va...   \n",
            "128    Christopher Guest  Christopher Guest, Eugene Levy, Michael McKean...   \n",
            "134     John Fortenberry  Chris Kattan, Will Ferrell, Raquel Gardner, Vi...   \n",
            "363          Zack Snyder  Dave Bautista, Ella Purnell, Ana de la Reguera...   \n",
            "385         David Bowers  Freddie Highmore, Nicolas Cage, Kristen Bell, ...   \n",
            "492          Zack Snyder  Ben Affleck, Henry Cavill, Amy Adams, Jesse Ei...   \n",
            "493          Zack Snyder  Amy Adams, Ben Affleck, Henry Cavill, Jesse Ei...   \n",
            "604    Christopher Smith  Eddie Redmayne, Sean Bean, Carice van Houten, ...   \n",
            "1071         Zack Snyder  Sarah Polley, Ving Rhames, Mekhi Phifer, Jake ...   \n",
            "1087       Shane Meadows  Paddy Considine, Gary Stretch, Toby Kebbell, S...   \n",
            "1534   Christopher Nolan  Jeremy Theobald, Alex Haw, Lucy Russell, John ...   \n",
            "2123         Shane Black  Robert Downey Jr., Guy Pearce, Gwyneth Paltrow...   \n",
            "2252         Zack Snyder   Ben Affleck, Gal Gadot, Jason Momoa, Ezra Miller   \n",
            "2324         Shane Black  Robert Downey Jr., Val Kilmer, Michelle Monagh...   \n",
            "2385  Giuseppe Tornatore  Tim Roth, Pruitt Taylor Vince, MÃ©lanie Thierr...   \n",
            "2462         Zack Snyder  Jim Sturgess, Hugo Weaving, David Wenham, Emil...   \n",
            "2627         Zack Snyder  Henry Cavill, Amy Adams, Michael Shannon, Dian...   \n",
            "3264       Shane Carruth  Shane Carruth, David Sullivan, Casey Gooden, A...   \n",
            "3704     James Merendino  Matthew Lillard, Michael A. Goorjian, Annabeth...   \n",
            "3912         Zack Snyder  Emily Browning, Vanessa Hudgens, Abbie Cornish...   \n",
            "4233   Christopher Nolan  Christian Bale, Heath Ledger, Aaron Eckhart, M...   \n",
            "4234   Christopher Nolan  Christian Bale, Tom Hardy, Anne Hathaway, Gary...   \n",
            "4701         Shane Black  Russell Crowe, Ryan Gosling, Angourie Rice, Ma...   \n",
            "4777         Shane Black  Boyd Holbrook, Trevante Rhodes, Jacob Tremblay...   \n",
            "5027        Frank Coraci  Adam Sandler, Drew Barrymore, Christine Taylor...   \n",
            "5081       Shane Meadows  Thomas Turgoose, Stephen Graham, Jo Hartley, A...   \n",
            "5290       Shane Carruth  Amy Seimetz, Frank Mosley, Shane Carruth, Andr...   \n",
            "5315         Todd Haynes  Ewan McGregor, Jonathan Rhys Meyers, Christian...   \n",
            "5375         Zack Snyder  Jackie Earle Haley, Patrick Wilson, Carla Gugi...   \n",
            "5543         Zack Snyder    Henry Cavill, Ben Affleck, Gal Gadot, Amy Adams   \n",
            "\n",
            "      Rating  Runtime (Mins) Censor Rating      Genre             Sub_Genre  \\\n",
            "95       6.8              96             U  Animation    Adventure,  Comedy   \n",
            "128      7.2              91         PG-13     Comedy                 Music   \n",
            "134      6.2              82            UA     Comedy       Music,  Romance   \n",
            "363      5.7             148            18     Action        Crime,  Horror   \n",
            "385      6.3              94             U  Animation    Action,  Adventure   \n",
            "492      6.4             152            UA     Action    Adventure,  Sci-Fi   \n",
            "493      7.1             182             R     Action    Adventure,  Sci-Fi   \n",
            "604      6.4             102             R     Action        Drama,  Horror   \n",
            "1071     7.3             101             A     Action                Horror   \n",
            "1087     7.6              90     Not Rated      Crime      Drama,  Thriller   \n",
            "1534     7.5              69             R      Crime    Mystery,  Thriller   \n",
            "2123     7.1             130            UA     Action    Adventure,  Sci-Fi   \n",
            "2252     6.1             120            UA     Action   Adventure,  Fantasy   \n",
            "2324     7.5             103             A     Comedy       Crime,  Mystery   \n",
            "2385     8.0             169     Not Rated      Drama       Music,  Romance   \n",
            "2462     6.9              97             U  Animation    Action,  Adventure   \n",
            "2627     7.1             143            UA     Action    Adventure,  Sci-Fi   \n",
            "3264     6.8              77         PG-13      Drama     Sci-Fi,  Thriller   \n",
            "3704     7.4              97             R     Comedy         Drama,  Music   \n",
            "3912     6.0             110            UA     Action   Adventure,  Fantasy   \n",
            "4233     9.0             152            UA     Action         Crime,  Drama   \n",
            "4234     8.4             164            UA     Action                 Drama   \n",
            "4701     7.3             116            18     Action        Comedy,  Crime   \n",
            "4777     5.3             107             A     Action    Adventure,  Sci-Fi   \n",
            "5027     6.9              97         PG-13     Comedy       Music,  Romance   \n",
            "5081     7.7             101             A      Crime                 Drama   \n",
            "5290     6.5              96     Not Rated      Drama                Sci-Fi   \n",
            "5315     6.9             118             R      Drama                 Music   \n",
            "5375     7.6             162             A     Action       Drama,  Mystery   \n",
            "5543     8.0             242            18     Action   Adventure,  Fantasy   \n",
            "\n",
            "                        Streaming  \\\n",
            "95    Amazon, Netflix, Hulu, Vudu   \n",
            "128                        Amazon   \n",
            "134                          Vudu   \n",
            "363         Amazon, Netflix, Hulu   \n",
            "385                 Netflix, Hulu   \n",
            "492                 Netflix, Hulu   \n",
            "493                          Hulu   \n",
            "604                 Netflix, Hulu   \n",
            "1071                         Hulu   \n",
            "1087                       Amazon   \n",
            "1534                Hulu, Netflix   \n",
            "2123                         Hulu   \n",
            "2252                Netflix, Hulu   \n",
            "2324                         None   \n",
            "2385                      Youtube   \n",
            "2462                Netflix, Hulu   \n",
            "2627                Netflix, Hulu   \n",
            "3264                Hulu, Netflix   \n",
            "3704  Amazon, Netflix, Hulu, Vudu   \n",
            "3912                Netflix, Hulu   \n",
            "4233                      Netflix   \n",
            "4234                      Netflix   \n",
            "4701                         Hulu   \n",
            "4777                         Hulu   \n",
            "5027  Amazon, Netflix, Hulu, Vudu   \n",
            "5081                         None   \n",
            "5290  Amazon, Netflix, Hulu, Vudu   \n",
            "5315              Netflix, Amazon   \n",
            "5375                         Hulu   \n",
            "5543                         Hulu   \n",
            "\n",
            "                                      combined_features  \n",
            "95    Animation  Adventure,  Comedy Robert Zemeckis ...  \n",
            "128                Comedy  Music Christopher Guest 2003  \n",
            "134       Comedy  Music,  Romance John Fortenberry 1998  \n",
            "363             Action  Crime,  Horror Zack Snyder 2021  \n",
            "385     Animation  Action,  Adventure David Bowers 2009  \n",
            "492         Action  Adventure,  Sci-Fi Zack Snyder 2016  \n",
            "493         Action  Adventure,  Sci-Fi Zack Snyder 2016  \n",
            "604       Action  Drama,  Horror Christopher Smith 2010  \n",
            "1071                    Action  Horror Zack Snyder 2004  \n",
            "1087         Crime  Drama,  Thriller Shane Meadows 2004  \n",
            "1534   Crime  Mystery,  Thriller Christopher Nolan 1998  \n",
            "2123        Action  Adventure,  Sci-Fi Shane Black 2013  \n",
            "2252       Action  Adventure,  Fantasy Zack Snyder 2017  \n",
            "2324           Comedy  Crime,  Mystery Shane Black 2005  \n",
            "2385     Drama  Music,  Romance Giuseppe Tornatore 1998  \n",
            "2462     Animation  Action,  Adventure Zack Snyder 2010  \n",
            "2627        Action  Adventure,  Sci-Fi Zack Snyder 2013  \n",
            "3264        Drama  Sci-Fi,  Thriller Shane Carruth 2004  \n",
            "3704         Comedy  Drama,  Music James Merendino 1998  \n",
            "3912       Action  Adventure,  Fantasy Zack Snyder 2011  \n",
            "4233       Action  Crime,  Drama Christopher Nolan 2008  \n",
            "4234               Action  Drama Christopher Nolan 2012  \n",
            "4701            Action  Comedy,  Crime Shane Black 2016  \n",
            "4777        Action  Adventure,  Sci-Fi Shane Black 2018  \n",
            "5027          Comedy  Music,  Romance Frank Coraci 1998  \n",
            "5081                    Crime  Drama Shane Meadows 2006  \n",
            "5290                   Drama  Sci-Fi Shane Carruth 2013  \n",
            "5315                      Drama  Music Todd Haynes 1998  \n",
            "5375           Action  Drama,  Mystery Zack Snyder 2009  \n",
            "5543       Action  Adventure,  Fantasy Zack Snyder 2021  \n"
          ]
        }
      ],
      "source": [
        "\n",
        "def selToList(li):\n",
        "    li = li\n",
        "\n",
        "    ids = [int(i) for i in li]\n",
        "\n",
        "\n",
        "    numRec = 10\n",
        "\n",
        "    numRec = 10\n",
        "\n",
        "    recommendations = getReccomendations(ids, numRec)\n",
        "    return recommendations\n",
        "\n",
        "id_list = (1, 5, 8)\n",
        "\n",
        "print(selToList(id_list))"
      ]
    },
    {
      "cell_type": "markdown",
      "metadata": {},
      "source": [
        "# Model Testing"
      ]
    },
    {
      "cell_type": "markdown",
      "metadata": {},
      "source": [
        "Create Samples"
      ]
    },
    {
      "cell_type": "code",
      "execution_count": 78,
      "metadata": {
        "id": "Zc5yh_0FpAhS"
      },
      "outputs": [],
      "source": [
        "allIds = list(range(0, 5561))\n",
        "\n",
        "i = list(range(1, 11))\n",
        "\n",
        "samples = []\n",
        "oneId = []\n",
        "twoId = []\n",
        "threeID = []\n",
        "fourID = []\n",
        "fiveID = []\n",
        "\n",
        "for x in i:\n",
        "    ids = random.choices(allIds, k=1)\n",
        "    oneId.append(ids)\n",
        "\n",
        "for x in i:\n",
        "    ids = random.choices(allIds, k=2)\n",
        "    twoId.append(ids)\n",
        "\n",
        "for x in i:\n",
        "    ids = random.choices(allIds, k=3)\n",
        "    threeID.append(ids)\n",
        "\n",
        "for x in i:\n",
        "    ids = random.choices(allIds, k=4)\n",
        "    fourID.append(ids)\n",
        "\n",
        "for x in i:\n",
        "    ids = random.choices(allIds, k=5)\n",
        "    fiveID.append(ids)\n",
        "\n"
      ]
    },
    {
      "cell_type": "markdown",
      "metadata": {},
      "source": [
        "Cosine Sim function"
      ]
    },
    {
      "cell_type": "code",
      "execution_count": 10,
      "metadata": {
        "id": "G9qKJwZppAhT"
      },
      "outputs": [],
      "source": [
        "def calculate_similarity(movie1, movie2, features):\n",
        "    combined_features1 = ' '.join([str(movie1[feature]).lower().strip() for feature in features])\n",
        "    combined_features2 = ' '.join([str(movie2[feature]).lower().strip() for feature in features])\n",
        "    tfidf = TfidfVectorizer().fit_transform([combined_features1, combined_features2])\n",
        "    cosine_sim = cosine_similarity(tfidf)[0][1]\n",
        "    return cosine_sim"
      ]
    },
    {
      "cell_type": "markdown",
      "metadata": {},
      "source": [
        "# 1. Single ID test \n",
        "Uses oneId sample list"
      ]
    },
    {
      "cell_type": "code",
      "execution_count": 45,
      "metadata": {
        "id": "l7nA-5E2pAhT"
      },
      "outputs": [],
      "source": [
        "def get_avgSingle(df, movie_id, features, num_recommendations=10):\n",
        "    movie_row = df[df['movieID'] == movie_id].iloc[0]\n",
        "    similarities = df.apply(lambda x: calculate_similarity(movie_row, x, features), axis=1)\n",
        "    top_indices = similarities.nlargest(num_recommendations + 1).index\n",
        "    filtered_ind = [v for v in top_indices if v != movie_id]\n",
        "    top_similarities = similarities.iloc[filtered_ind]\n",
        "    avg_similarity = np.mean(top_similarities)\n",
        "    return(filtered_ind, avg_similarity)\n"
      ]
    },
    {
      "cell_type": "markdown",
      "metadata": {},
      "source": [
        "Returns dataframe of average similarity for each sample."
      ]
    },
    {
      "cell_type": "code",
      "execution_count": 137,
      "metadata": {
        "colab": {
          "base_uri": "https://localhost:8080/",
          "height": 363
        },
        "id": "hIz6Pl5ivmsH",
        "outputId": "40754152-3777-4b74-bc73-79dbc2260dd7"
      },
      "outputs": [
        {
          "data": {
            "text/html": [
              "<div>\n",
              "<style scoped>\n",
              "    .dataframe tbody tr th:only-of-type {\n",
              "        vertical-align: middle;\n",
              "    }\n",
              "\n",
              "    .dataframe tbody tr th {\n",
              "        vertical-align: top;\n",
              "    }\n",
              "\n",
              "    .dataframe thead th {\n",
              "        text-align: right;\n",
              "    }\n",
              "</style>\n",
              "<table border=\"1\" class=\"dataframe\">\n",
              "  <thead>\n",
              "    <tr style=\"text-align: right;\">\n",
              "      <th></th>\n",
              "      <th>movieID</th>\n",
              "      <th>topRecs</th>\n",
              "      <th>avg_similarity</th>\n",
              "      <th>n</th>\n",
              "    </tr>\n",
              "  </thead>\n",
              "  <tbody>\n",
              "    <tr>\n",
              "      <th>0</th>\n",
              "      <td>128</td>\n",
              "      <td>[3552, 933, 278, 310, 722, 1297, 1303, 2460, 3...</td>\n",
              "      <td>0.715970</td>\n",
              "      <td>1</td>\n",
              "    </tr>\n",
              "    <tr>\n",
              "      <th>1</th>\n",
              "      <td>619</td>\n",
              "      <td>[427, 1456, 1898, 3477, 3942, 973, 2961, 4972,...</td>\n",
              "      <td>0.853549</td>\n",
              "      <td>1</td>\n",
              "    </tr>\n",
              "    <tr>\n",
              "      <th>2</th>\n",
              "      <td>4903</td>\n",
              "      <td>[152, 1499, 1723, 1779, 1849, 2764, 3010, 3577...</td>\n",
              "      <td>0.583798</td>\n",
              "      <td>1</td>\n",
              "    </tr>\n",
              "    <tr>\n",
              "      <th>3</th>\n",
              "      <td>1214</td>\n",
              "      <td>[446, 758, 759, 940, 1169, 1754, 4145, 4195, 4...</td>\n",
              "      <td>0.602975</td>\n",
              "      <td>1</td>\n",
              "    </tr>\n",
              "    <tr>\n",
              "      <th>4</th>\n",
              "      <td>1193</td>\n",
              "      <td>[352, 1522, 4202, 355, 1049, 1091, 1655, 1963,...</td>\n",
              "      <td>0.843560</td>\n",
              "      <td>1</td>\n",
              "    </tr>\n",
              "    <tr>\n",
              "      <th>5</th>\n",
              "      <td>3484</td>\n",
              "      <td>[1237, 1118, 2309, 2578, 5422, 4513, 103, 201,...</td>\n",
              "      <td>0.679137</td>\n",
              "      <td>1</td>\n",
              "    </tr>\n",
              "    <tr>\n",
              "      <th>6</th>\n",
              "      <td>4986</td>\n",
              "      <td>[1046, 2996, 927, 2894, 4019, 5482, 3320, 4555...</td>\n",
              "      <td>0.745806</td>\n",
              "      <td>1</td>\n",
              "    </tr>\n",
              "    <tr>\n",
              "      <th>7</th>\n",
              "      <td>2423</td>\n",
              "      <td>[1068, 1352, 1437, 1941, 2202, 4434, 5527, 108...</td>\n",
              "      <td>0.932954</td>\n",
              "      <td>1</td>\n",
              "    </tr>\n",
              "    <tr>\n",
              "      <th>8</th>\n",
              "      <td>2674</td>\n",
              "      <td>[2120, 2747, 27, 162, 218, 275, 333, 347, 645,...</td>\n",
              "      <td>0.660031</td>\n",
              "      <td>1</td>\n",
              "    </tr>\n",
              "    <tr>\n",
              "      <th>9</th>\n",
              "      <td>5461</td>\n",
              "      <td>[2863, 5525, 11, 84, 85, 234, 240, 264, 374, 399]</td>\n",
              "      <td>0.660031</td>\n",
              "      <td>1</td>\n",
              "    </tr>\n",
              "  </tbody>\n",
              "</table>\n",
              "</div>"
            ],
            "text/plain": [
              "   movieID                                            topRecs  avg_similarity  \\\n",
              "0      128  [3552, 933, 278, 310, 722, 1297, 1303, 2460, 3...        0.715970   \n",
              "1      619  [427, 1456, 1898, 3477, 3942, 973, 2961, 4972,...        0.853549   \n",
              "2     4903  [152, 1499, 1723, 1779, 1849, 2764, 3010, 3577...        0.583798   \n",
              "3     1214  [446, 758, 759, 940, 1169, 1754, 4145, 4195, 4...        0.602975   \n",
              "4     1193  [352, 1522, 4202, 355, 1049, 1091, 1655, 1963,...        0.843560   \n",
              "5     3484  [1237, 1118, 2309, 2578, 5422, 4513, 103, 201,...        0.679137   \n",
              "6     4986  [1046, 2996, 927, 2894, 4019, 5482, 3320, 4555...        0.745806   \n",
              "7     2423  [1068, 1352, 1437, 1941, 2202, 4434, 5527, 108...        0.932954   \n",
              "8     2674  [2120, 2747, 27, 162, 218, 275, 333, 347, 645,...        0.660031   \n",
              "9     5461  [2863, 5525, 11, 84, 85, 234, 240, 264, 374, 399]        0.660031   \n",
              "\n",
              "   n  \n",
              "0  1  \n",
              "1  1  \n",
              "2  1  \n",
              "3  1  \n",
              "4  1  \n",
              "5  1  \n",
              "6  1  \n",
              "7  1  \n",
              "8  1  \n",
              "9  1  "
            ]
          },
          "execution_count": 137,
          "metadata": {},
          "output_type": "execute_result"
        }
      ],
      "source": [
        "\n",
        "features = ['Genre', 'Sub_Genre', 'Year']\n",
        "df = movieTable()\n",
        "\n",
        "movie_infoSingle = []\n",
        "\n",
        "for x in oneId:\n",
        "    for movie_id in x:\n",
        "        top_indices, avg_similarity = get_avgSingle(df, movie_id, features)\n",
        "        movie_infoSingle.append({'movieID': movie_id,'topRecs': top_indices, 'avg_similarity': avg_similarity,})\n",
        "\n",
        "avgSimsOne = pd.DataFrame(movie_infoSingle)\n",
        "avgSimsOne['n'] = 1\n",
        "avgSimsOne\n",
        "\n",
        "\n"
      ]
    },
    {
      "cell_type": "markdown",
      "metadata": {
        "id": "9tITvnZ6pAhT"
      },
      "source": [
        "# 2. Multiple IDs\n",
        "\n",
        "Applied on twoID, threeID, fourID, and fiveID"
      ]
    },
    {
      "cell_type": "markdown",
      "metadata": {},
      "source": [
        "Get the top n-recommendations per sample."
      ]
    },
    {
      "cell_type": "code",
      "execution_count": 56,
      "metadata": {
        "id": "o6liC0BOpAhT"
      },
      "outputs": [],
      "source": [
        "def get_avgMulti(df, movie_id, features, num_rec):\n",
        "    topIDs = []\n",
        "    num_rec = num_rec\n",
        "    for j in movie_id:\n",
        "        movie_row = df[df['movieID'] == j].iloc[0]\n",
        "        similarities = df.apply(lambda x: calculate_similarity(movie_row, x, features), axis=1)\n",
        "        top_indices = similarities.nlargest(num_rec + 1).index\n",
        "        filtered_ind = [v for v in top_indices if v != j]\n",
        "        topIDs.append(filtered_ind)\n",
        "\n",
        "\n",
        "    return(topIDs)"
      ]
    },
    {
      "cell_type": "markdown",
      "metadata": {},
      "source": [
        "For each sample in list:\n",
        "- calculate similarity between each id in sample and each top in sample\n",
        "- average all per sample"
      ]
    },
    {
      "cell_type": "code",
      "execution_count": 69,
      "metadata": {},
      "outputs": [],
      "source": [
        "features = ['Genre', 'Sub_Genre', 'Year']\n",
        "df = movieTable()\n",
        "\n",
        "def getSims(sample, tops):\n",
        "    \n",
        "    # Compute similarity scores for the entire sample\n",
        "    tops = tops\n",
        "    all_scores = []\n",
        "    for x in sample:\n",
        "        sample_movie = df[df['movieID'] == x].iloc[0]\n",
        "        scores = []\n",
        "        for rec_id in tops:\n",
        "            # Check if there are any rows with the current rec_id\n",
        "            temp_df = df[df['movieID'] == rec_id]\n",
        "            if not temp_df.empty:\n",
        "                # If the DataFrame is not empty, calculate the similarity\n",
        "                sim_score = calculate_similarity(sample_movie, temp_df.iloc[0], features)\n",
        "                scores.append(sim_score)\n",
        "            else:\n",
        "                # Handle the case where no matching movieID is found\n",
        "                scores.append(0)  # For example, assuming a similarity of 0\n",
        "            all_scores.extend(scores)\n",
        "\n",
        "    avg_sim_score = sum(all_scores) / len(all_scores) if all_scores else 0  # Calculate average score for this sample\n",
        "\n",
        "    return(avg_sim_score)"
      ]
    },
    {
      "cell_type": "markdown",
      "metadata": {},
      "source": [
        "For each sample in twoID:\n",
        "- Gets top 10 similar movies for each sample id: get_avgMulti()\n",
        "- Combines all 20 into one list and removes duplicates. Therefore, there will be 10-20 recommendations per sample.\n",
        "- Calculates similarity between each id in sample and each top in sample, then averages them: getSims()"
      ]
    },
    {
      "cell_type": "code",
      "execution_count": 85,
      "metadata": {
        "colab": {
          "base_uri": "https://localhost:8080/"
        },
        "id": "wFvdBxpMpAhU",
        "outputId": "7f5b8c29-4d7f-4efc-ba35-734245741ede"
      },
      "outputs": [],
      "source": [
        "\n",
        "features = ['Genre', 'Sub_Genre', 'Year']\n",
        "df = movieTable()\n",
        "\n",
        "def getTops(id_list, num_rec):\n",
        "   id_list = id_list\n",
        "   allTops2 = []\n",
        "   num_rec = num_rec\n",
        "   for x in id_list:\n",
        "      topIds = get_avgMulti(df, x, features, num_rec)\n",
        "\n",
        "      # Combine all into list and remove duplicates\n",
        "      flat_list = []\n",
        "      for i in topIds:\n",
        "         flat_list.extend(i)\n",
        "\n",
        "      flatIDs = []\n",
        "      [flatIDs.append(k) for k in flat_list if k not in flatIDs]\n",
        "\n",
        "      # get similarities and average\n",
        "      avg_sim_score = getSims(x, flatIDs)\n",
        "\n",
        "      allTops2.append({\n",
        "            'movieID': x,\n",
        "            'topRecs': flatIDs,\n",
        "            'avg_similarity': avg_sim_score\n",
        "        })\n",
        "      \n",
        "   # Convert to DataFrame and print results\n",
        "   allTopIDs = pd.DataFrame(allTops2)\n",
        "   return(allTopIDs)\n",
        "\n",
        "\n"
      ]
    },
    {
      "cell_type": "code",
      "execution_count": 104,
      "metadata": {},
      "outputs": [
        {
          "name": "stdout",
          "output_type": "stream",
          "text": [
            "        movieID                                            topRecs  \\\n",
            "0  [5521, 4750]  [19, 25, 26, 41, 44, 77, 78, 108, 114, 122, 14...   \n",
            "1   [4999, 928]  [2101, 3691, 3126, 20, 238, 306, 317, 318, 319...   \n",
            "2  [4140, 3716]  [2957, 4965, 31, 308, 361, 474, 989, 1455, 292...   \n",
            "3   [481, 3676]  [1029, 1141, 2089, 4160, 4633, 3049, 3510, 236...   \n",
            "4   [2523, 466]  [1545, 292, 1027, 1229, 1552, 1559, 2132, 2463...   \n",
            "5  [3415, 2864]  [3345, 2700, 328, 404, 500, 623, 789, 837, 877...   \n",
            "6   [5318, 737]  [2386, 2648, 2687, 590, 938, 991, 1087, 2436, ...   \n",
            "7  [4105, 5452]  [201, 4679, 2848, 4730, 399, 736, 979, 1061, 1...   \n",
            "8  [5336, 5023]  [4368, 5242, 54, 69, 83, 98, 123, 142, 146, 15...   \n",
            "9  [2675, 3489]  [2084, 27, 120, 162, 347, 472, 732, 871, 889, ...   \n",
            "\n",
            "   avg_similarity  \n",
            "0        0.544034  \n",
            "1        0.387729  \n",
            "2        0.473833  \n",
            "3        0.314352  \n",
            "4        0.389559  \n",
            "5        0.408519  \n",
            "6        0.417879  \n",
            "7        0.431187  \n",
            "8        0.540120  \n",
            "9        0.493309  \n"
          ]
        }
      ],
      "source": [
        "\n",
        "avgSimsTwo = getTops(twoId, 10)\n",
        "print(avgSimsTwo)\n"
      ]
    },
    {
      "cell_type": "code",
      "execution_count": 105,
      "metadata": {},
      "outputs": [
        {
          "name": "stdout",
          "output_type": "stream",
          "text": [
            "              movieID                                            topRecs  \\\n",
            "0  [1666, 3045, 5116]  [741, 748, 1032, 1073, 1664, 3285, 649, 891, 9...   \n",
            "1   [2414, 549, 1478]  [2983, 3258, 4099, 1604, 1708, 13, 195, 228, 2...   \n",
            "2  [1012, 3056, 4818]  [171, 548, 1289, 2366, 2611, 2084, 5522, 4635,...   \n",
            "3    [402, 730, 1478]  [2104, 5096, 202, 330, 331, 765, 1410, 2683, 3...   \n",
            "4   [5048, 2468, 930]  [59, 106, 132, 317, 334, 786, 3450, 5454, 7, 3...   \n",
            "5  [2931, 2834, 4842]  [1888, 2743, 2754, 2973, 3055, 1351, 2295, 365...   \n",
            "6  [3970, 1015, 1781]  [26, 78, 995, 1591, 2418, 3512, 3023, 4418, 47...   \n",
            "7  [3467, 1070, 5490]  [266, 137, 149, 348, 1440, 3744, 525, 550, 176...   \n",
            "8  [2668, 5176, 1789]  [70, 349, 408, 602, 693, 3804, 13, 195, 228, 2...   \n",
            "9  [2152, 4118, 3740]  [1383, 1501, 2264, 3506, 5102, 190, 1228, 1277...   \n",
            "\n",
            "   avg_similarity  \n",
            "0        0.279989  \n",
            "1        0.282215  \n",
            "2        0.338778  \n",
            "3        0.429959  \n",
            "4        0.316350  \n",
            "5        0.507210  \n",
            "6        0.420891  \n",
            "7        0.358191  \n",
            "8        0.317233  \n",
            "9        0.384918  \n"
          ]
        }
      ],
      "source": [
        "avgSimsThree = getTops(threeID, 5)\n",
        "print(avgSimsThree)"
      ]
    },
    {
      "cell_type": "code",
      "execution_count": 106,
      "metadata": {},
      "outputs": [
        {
          "name": "stdout",
          "output_type": "stream",
          "text": [
            "                    movieID  \\\n",
            "0   [3709, 376, 4659, 2619]   \n",
            "1   [1255, 3006, 3539, 320]   \n",
            "2  [1166, 2310, 2296, 3456]   \n",
            "3   [102, 3870, 1591, 1269]   \n",
            "4   [1646, 4584, 4776, 722]   \n",
            "5   [3397, 2409, 2533, 299]   \n",
            "6   [306, 2071, 2121, 4641]   \n",
            "7   [880, 1836, 3692, 5155]   \n",
            "8  [3992, 5341, 5438, 5380]   \n",
            "9  [1134, 2407, 2319, 3816]   \n",
            "\n",
            "                                             topRecs  avg_similarity  \n",
            "0  [245, 1354, 2633, 2682, 857, 1536, 2399, 3094,...        0.455364  \n",
            "1  [196, 1514, 2524, 164, 1755, 4417, 811, 1584, ...        0.279425  \n",
            "2  [2805, 2840, 4686, 2337, 100, 529, 124, 484, 9...        0.247952  \n",
            "3  [1681, 1889, 2090, 504, 3351, 3448, 26, 78, 99...        0.414955  \n",
            "4  [1661, 201, 4679, 1336, 4177, 862, 2619, 1015,...        0.289955  \n",
            "5  [224, 225, 1825, 2907, 3811, 4159, 2035, 2380,...        0.289786  \n",
            "6  [20, 238, 317, 692, 982, 4413, 432, 2233, 3087...        0.208007  \n",
            "7  [1960, 2757, 4096, 3610, 238, 351, 5381, 524, ...        0.277269  \n",
            "8  [245, 1354, 2633, 2682, 1905, 2520, 4250, 54, ...        0.421584  \n",
            "9  [1216, 2634, 4680, 1889, 2090, 2212, 1809, 591...        0.360226  \n"
          ]
        }
      ],
      "source": [
        "avgSimsFour = getTops(fourID, 3)\n",
        "print(avgSimsFour)"
      ]
    },
    {
      "cell_type": "code",
      "execution_count": 107,
      "metadata": {},
      "outputs": [
        {
          "name": "stdout",
          "output_type": "stream",
          "text": [
            "                          movieID  \\\n",
            "0    [2606, 3656, 68, 2016, 1851]   \n",
            "1    [27, 3510, 4238, 5095, 5168]   \n",
            "2     [249, 474, 1317, 564, 4973]   \n",
            "3  [4597, 4344, 5041, 2058, 3416]   \n",
            "4  [2469, 4097, 2929, 3600, 1536]   \n",
            "5   [4003, 709, 4863, 3156, 1870]   \n",
            "6  [4717, 4190, 2481, 4438, 2367]   \n",
            "7   [1391, 2726, 743, 1639, 3810]   \n",
            "8  [4558, 4375, 1415, 3964, 5367]   \n",
            "9   [5536, 2918, 4264, 4584, 564]   \n",
            "\n",
            "                                             topRecs  avg_similarity  \n",
            "0  [44, 477, 535, 399, 1721, 3453, 199, 239, 232,...        0.333170  \n",
            "1  [871, 4907, 3049, 1777, 2690, 2, 417, 1534, 66...        0.356267  \n",
            "2  [1752, 1913, 31, 361, 1658, 5539, 667, 2882, 3...        0.283762  \n",
            "3  [2446, 27, 3482, 652, 1219, 4184, 48, 298, 448...        0.265878  \n",
            "4  [0, 451, 2343, 5245, 638, 25, 628, 760, 749, 2...        0.433280  \n",
            "5  [4551, 4812, 232, 956, 245, 1354, 2633, 2479, ...        0.277027  \n",
            "6  [4741, 48, 3045, 3285, 5045, 5197, 738, 4856, ...        0.249705  \n",
            "7  [4721, 99, 4749, 1467, 691, 240, 3172, 3314, 1...        0.235152  \n",
            "8  [2000, 2331, 4337, 783, 4749, 4222, 3626, 54, ...        0.339410  \n",
            "9  [2293, 4752, 23, 4712, 3971, 2700, 1336, 4177,...        0.255337  \n"
          ]
        }
      ],
      "source": [
        "avgSimsFive = getTops(fiveID, 2)\n",
        "print(avgSimsFive)"
      ]
    },
    {
      "cell_type": "code",
      "execution_count": 149,
      "metadata": {},
      "outputs": [],
      "source": [
        "sampleAvg = pd.concat([avgSimsTwo, avgSimsTwo, avgSimsThree, avgSimsFour, avgSimsFive], axis=0)\n",
        "sampleAvg['n'] = sampleAvg['movieID'].apply(len)\n",
        "sampleAvg2 = pd.concat([sampleAvg, avgSimsOne])\n",
        "sampleAvg2\n",
        "sampleAvg2 = sampleAvg2.drop(['movieID', 'topRecs'], axis=1)\n",
        "\n"
      ]
    },
    {
      "cell_type": "markdown",
      "metadata": {
        "id": "CbIxIXAit08-"
      },
      "source": [
        "# Averages Box Plot\n"
      ]
    },
    {
      "cell_type": "code",
      "execution_count": 148,
      "metadata": {
        "colab": {
          "base_uri": "https://localhost:8080/",
          "height": 564
        },
        "id": "7nHGXA6Rt4rh",
        "outputId": "32c252cb-0695-4a7a-adb2-8a4714004157"
      },
      "outputs": [
        {
          "name": "stderr",
          "output_type": "stream",
          "text": [
            "/var/folders/6f/pl962ydj69n83g5xbrl18kgw0000gn/T/ipykernel_59301/738841040.py:5: FutureWarning: \n",
            "\n",
            "Passing `palette` without assigning `hue` is deprecated and will be removed in v0.14.0. Assign the `x` variable to `hue` and set `legend=False` for the same effect.\n",
            "\n",
            "  sns.boxplot(x='n', y='avg_similarity', data=sampleAvg2, palette=my_pal).set(\n"
          ]
        },
        {
          "data": {
            "image/png": "[encoded data removed]",
            "text/plain": [
              "<Figure size 640x480 with 1 Axes>"
            ]
          },
          "metadata": {},
          "output_type": "display_data"
        }
      ],
      "source": [
        "\n",
        "# Plotting the boxplot\n",
        "\n",
        "my_pal = {\"1\":\"y\", \"2\": \"g\", \"3\": \"b\", \"4\":\"m\", \"5\":\"r\"}\n",
        "\n",
        "sns.boxplot(x='n', y='avg_similarity', data=sampleAvg2, palette=my_pal).set(\n",
        "    xlabel='n-Selected Movies',\n",
        "    ylabel='Average Similarity')\n",
        "plt.title('Average Similarity Scores for n-Selected Movies')\n",
        "sns.set_theme(style=\"darkgrid\")\n",
        "\n",
        "plt.grid(True, linestyle='--', alpha=0.6)\n"
      ]
    }
  ],
  "metadata": {
    "colab": {
      "provenance": []
    },
    "kernelspec": {
      "display_name": "Python 3",
      "name": "python3"
    },
    "language_info": {
      "codemirror_mode": {
        "name": "ipython",
        "version": 3
      },
      "file_extension": ".py",
      "mimetype": "text/x-python",
      "name": "python",
      "nbconvert_exporter": "python",
      "pygments_lexer": "ipython3",
      "version": "3.12.1"
    }
  },
  "nbformat": 4,
  "nbformat_minor": 0
}
