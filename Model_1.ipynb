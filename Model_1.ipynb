{
  "cells": [
    {
      "cell_type": "code",
      "execution_count": 1,
      "metadata": {
        "colab": {
          "base_uri": "https://localhost:8080/",
          "height": 233
        },
        "id": "4K-JA9yCYUiH",
        "outputId": "501ff0ab-27a0-4df1-b463-aec5ff726830"
      },
      "outputs": [
        {
          "ename": "NameError",
          "evalue": "name 'df_clean' is not defined",
          "output_type": "error",
          "traceback": [
            "\u001b[0;31m---------------------------------------------------------------------------\u001b[0m",
            "\u001b[0;31mNameError\u001b[0m                                 Traceback (most recent call last)",
            "\u001b[0;32m<ipython-input-1-12a637f740e5>\u001b[0m in \u001b[0;36m<cell line: 5>\u001b[0;34m()\u001b[0m\n\u001b[1;32m      3\u001b[0m \u001b[0;34m\u001b[0m\u001b[0m\n\u001b[1;32m      4\u001b[0m \u001b[0;31m# Concatenate the features into one string\u001b[0m\u001b[0;34m\u001b[0m\u001b[0;34m\u001b[0m\u001b[0m\n\u001b[0;32m----> 5\u001b[0;31m \u001b[0mdf_clean\u001b[0m\u001b[0;34m[\u001b[0m\u001b[0;34m'combined_features'\u001b[0m\u001b[0;34m]\u001b[0m \u001b[0;34m=\u001b[0m \u001b[0mdf_clean\u001b[0m\u001b[0;34m[\u001b[0m\u001b[0;34m'Genre'\u001b[0m\u001b[0;34m]\u001b[0m \u001b[0;34m+\u001b[0m \u001b[0;34m' '\u001b[0m \u001b[0;34m+\u001b[0m \u001b[0mdf_clean\u001b[0m\u001b[0;34m[\u001b[0m\u001b[0;34m'Sub-Genre'\u001b[0m\u001b[0;34m]\u001b[0m \u001b[0;34m+\u001b[0m \u001b[0;34m' '\u001b[0m \u001b[0;34m+\u001b[0m \u001b[0mdf_clean\u001b[0m\u001b[0;34m[\u001b[0m\u001b[0;34m'Director'\u001b[0m\u001b[0;34m]\u001b[0m \u001b[0;34m+\u001b[0m \u001b[0;34m' '\u001b[0m \u001b[0;34m+\u001b[0m \u001b[0mdf_clean\u001b[0m\u001b[0;34m[\u001b[0m\u001b[0;34m'Year'\u001b[0m\u001b[0;34m]\u001b[0m\u001b[0;34m.\u001b[0m\u001b[0mastype\u001b[0m\u001b[0;34m(\u001b[0m\u001b[0mstr\u001b[0m\u001b[0;34m)\u001b[0m\u001b[0;34m\u001b[0m\u001b[0;34m\u001b[0m\u001b[0m\n\u001b[0m\u001b[1;32m      6\u001b[0m \u001b[0;34m\u001b[0m\u001b[0m\n\u001b[1;32m      7\u001b[0m \u001b[0;31m# Convert textual data to numerical data\u001b[0m\u001b[0;34m\u001b[0m\u001b[0;34m\u001b[0m\u001b[0m\n",
            "\u001b[0;31mNameError\u001b[0m: name 'df_clean' is not defined"
          ]
        }
      ],
      "source": []
    },
    {
      "cell_type": "code",
      "execution_count": 6,
      "metadata": {
        "colab": {
          "base_uri": "https://localhost:8080/"
        },
        "id": "hbpNZo2zZauc",
        "outputId": "abb49a7f-be2b-4a82-bd9b-f7266de8e8e9"
      },
      "outputs": [
        {
          "name": "stdout",
          "output_type": "stream",
          "text": [
            "Index(['movieID', 'Title', 'Year', 'Director', 'Actors', 'Rating',\n",
            "       'Runtime (Mins)', 'Censor Rating', 'Genre', 'Sub_Genre', 'Streaming'],\n",
            "      dtype='object')\n",
            "      movieID        Title  Year  \\\n",
            "0           0        11:14  2003   \n",
            "1           1            9  2009   \n",
            "2           2           13  2010   \n",
            "3           3           21  2008   \n",
            "4           4           42  2013   \n",
            "...       ...          ...   ...   \n",
            "5557     5557  Zoolander 2  2016   \n",
            "5558     5558     Zootopia  2016   \n",
            "5559     5559     Zui quan  1978   \n",
            "5560     5560         Zulu  1964   \n",
            "5561     5561    Zwartboek  2006   \n",
            "\n",
            "                                            Director  \\\n",
            "0                                        Greg Marcks   \n",
            "1                                        Shane Acker   \n",
            "2                                      Géla Babluani   \n",
            "3                                     Robert Luketic   \n",
            "4                                    Brian Helgeland   \n",
            "...                                              ...   \n",
            "5557                                     Ben Stiller   \n",
            "5558  Directors:Byron Howard, Rich Moore, Jared Bush   \n",
            "5559                                   Woo-Ping Yuen   \n",
            "5560                                     Cy Endfield   \n",
            "5561                                  Paul Verhoeven   \n",
            "\n",
            "                                                 Actors  Rating  \\\n",
            "0     Henry Thomas, Colin Hanks, Ben Foster, Patrick...     7.1   \n",
            "1     Elijah Wood, Jennifer Connelly, Crispin Glover...     7.0   \n",
            "2     Sam Riley, Alice Barrett, Gaby Hoffmann, Jason...     6.0   \n",
            "3     Jim Sturgess, Kate Bosworth, Kevin Spacey, Aar...     6.8   \n",
            "4     Chadwick Boseman, T.R. Knight, Harrison Ford, ...     7.5   \n",
            "...                                                 ...     ...   \n",
            "5557  Ben Stiller, Owen Wilson, PenÃ©lope Cruz, Will...     4.7   \n",
            "5558  Ginnifer Goodwin, Jason Bateman, Idris Elba, J...     8.0   \n",
            "5559  Jackie Chan, Siu-Tin Yuen, Jeong-lee Hwang, De...     7.4   \n",
            "5560  Stanley Baker, Jack Hawkins, Ulla Jacobsson, J...     7.7   \n",
            "5561  Carice van Houten, Sebastian Koch, Thom Hoffma...     7.7   \n",
            "\n",
            "      Runtime (Mins) Censor Rating      Genre            Sub_Genre  \\\n",
            "0                 86             R     Comedy        Crime,  Drama   \n",
            "1                 79         PG-13  Animation   Action,  Adventure   \n",
            "2                 91             R      Crime     Drama,  Thriller   \n",
            "3                123            18      Crime      Drama,  History   \n",
            "4                128         PG-13  Biography        Drama,  Sport   \n",
            "...              ...           ...        ...                  ...   \n",
            "5557             101             U     Action   Adventure,  Comedy   \n",
            "5558             108             U  Animation   Adventure,  Comedy   \n",
            "5559             111             U     Action               Comedy   \n",
            "5560             138             U      Drama        History,  War   \n",
            "5561             145             A      Drama       Thriller,  War   \n",
            "\n",
            "                  Streaming                                  combined_features  \n",
            "0                      Vudu             Comedy  Crime,  Drama Greg Marcks 2003  \n",
            "1             Netflix, Hulu     Animation  Action,  Adventure Shane Acker 2009  \n",
            "2                    Amazon         Crime  Drama,  Thriller Géla Babluani 2010  \n",
            "3     Amazon, Netflix, Hulu         Crime  Drama,  History Robert Luketic 2008  \n",
            "4              Hulu, Amazon      Biography  Drama,  Sport Brian Helgeland 2013  \n",
            "...                     ...                                                ...  \n",
            "5557                    NaN        Action  Adventure,  Comedy Ben Stiller 2016  \n",
            "5558                   Hulu  Animation  Adventure,  Comedy Directors:Byron ...  \n",
            "5559                   Hulu                  Action  Comedy Woo-Ping Yuen 1978  \n",
            "5560           Hulu, Amazon              Drama  History,  War Cy Endfield 1964  \n",
            "5561                Youtube          Drama  Thriller,  War Paul Verhoeven 2006  \n",
            "\n",
            "[5562 rows x 12 columns]\n",
            "['Interstellar', 'Tenet', 'The Prestige', 'The Dark Knight Rises', 'The Dark Knight', 'Batman Begins', 'Dunkirk', 'Insomnia', 'Memento', 'Following']\n"
          ]
        }
      ],
      "source": [
        "import pandas as pd\n",
        "from sklearn.feature_extraction.text import TfidfVectorizer\n",
        "from sklearn.metrics.pairwise import cosine_similarity\n",
        "\n",
        "# Load the data\n",
        "df_clean = pd.read_csv('IMDb_Clean_CSV.csv')\n",
        "\n",
        "# Check if the necessary columns exist\n",
        "print(df_clean.columns)\n",
        "\n",
        "# Concatenate the features into one string (ensure these columns exist in your DataFrame)\n",
        "df_clean['combined_features'] = df_clean['Genre'] + ' ' + df_clean['Sub_Genre'] + ' ' + df_clean['Director'] + ' ' + df_clean['Year'].astype(str)\n",
        "\n",
        "# Convert textual data to numerical data using TF-IDF\n",
        "tfidf = TfidfVectorizer(stop_words='english')\n",
        "tfidf_matrix = tfidf.fit_transform(df_clean['combined_features'])\n",
        "\n",
        "# Compute the cosine similarity\n",
        "cosine_sim = cosine_similarity(tfidf_matrix, tfidf_matrix)\n",
        "\n",
        "# Recommendation function\n",
        "def recommend_movies(id, title, num_recommendations=10):\n",
        "    # Get the index of the movie that matches the title\n",
        "    idx = df_clean[df_clean['Title'] == title & df_clean['movieID'] == id].index[0] \n",
        "\n",
        "    # Get the pairwise similarity scores\n",
        "    sim_scores = list(enumerate(cosine_sim[idx]))\n",
        "\n",
        "    # Sort the movies based on similarity scores\n",
        "    sim_scores = sorted(sim_scores, key=lambda x: x[1], reverse=True)\n",
        "\n",
        "    # Get the scores of the most similar movies\n",
        "    sim_scores = sim_scores[1:num_recommendations+1]\n",
        "\n",
        "    # Get the movie indices\n",
        "    movie_indices = [i[0] for i in sim_scores]\n",
        "\n",
        "    # Return the top 10 most similar movies\n",
        "    return df_clean['Title'].iloc[movie_indices].tolist()\n",
        "\n",
        "# Example usage\n",
        "recommendations = recommend_movies('Inception', 10)\n",
        "print(recommendations)\n"
      ]
    }
  ],
  "metadata": {
    "colab": {
      "provenance": []
    },
    "kernelspec": {
      "display_name": "Python 3",
      "name": "python3"
    },
    "language_info": {
      "codemirror_mode": {
        "name": "ipython",
        "version": 3
      },
      "file_extension": ".py",
      "mimetype": "text/x-python",
      "name": "python",
      "nbconvert_exporter": "python",
      "pygments_lexer": "ipython3",
      "version": "3.12.1"
    }
  },
  "nbformat": 4,
  "nbformat_minor": 0
}
